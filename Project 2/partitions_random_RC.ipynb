{
 "cells": [
  {
   "cell_type": "markdown",
   "metadata": {},
   "source": [
    "### Import Packages"
   ]
  },
  {
   "cell_type": "code",
   "execution_count": 96,
   "metadata": {},
   "outputs": [],
   "source": [
    "# working with data\n",
    "import numpy as np\n",
    "import random\n",
    "\n",
    "# working with files\n",
    "import pickle as pkl\n",
    "import os\n",
    "\n",
    "# timing\n",
    "import tqdm\n",
    "\n",
    "# visualization\n",
    "import matplotlib\n",
    "import matplotlib.pyplot as plt"
   ]
  },
  {
   "cell_type": "markdown",
   "metadata": {},
   "source": [
    "### Helpful Functions"
   ]
  },
  {
   "cell_type": "code",
   "execution_count": 99,
   "metadata": {},
   "outputs": [],
   "source": [
    "def plot_partition(partition, ax=None, text=True, normalized=True, equal_axis=True):\n",
    "    \"\"\" \n",
    "    Plots a partition.\n",
    "\n",
    "    Parameters\n",
    "    ----------\n",
    "        partition: np.ndarray\n",
    "            Partition to plot\n",
    "        ax: matplotlib.axes.Axes\n",
    "            Axis to plot partition on\n",
    "        text: boolean\n",
    "            Whether to label plot with number of total squares or not\n",
    "        normalized: boolean\n",
    "            Whether to scale plot or not\n",
    "        equal_axis: boolean\n",
    "            Whether to equate x and y scales or not\n",
    "\n",
    "    Returns\n",
    "    -------\n",
    "        ax: matplotlib.axes.Axes\n",
    "            Axis with plot of partition\n",
    "    \"\"\"\n",
    "\n",
    "    if ax is None:\n",
    "        _, ax = plt.subplots(figsize=(4,4))\n",
    "\n",
    "    num_squares = len(partition)\n",
    "    if normalized:\n",
    "        ax.step(np.arange(num_squares)/np.sqrt(num_squares), partition/np.sqrt(num_squares), where='post')\n",
    "    else:\n",
    "        ax.step(np.arange(num_squares), partition, where='post')\n",
    "\n",
    "    if text:\n",
    "        prefix = 'Normalized ' if normalized else ''\n",
    "        ax.set_title(prefix + rf'$n={num_squares}$')\n",
    "\n",
    "    if equal_axis:\n",
    "        plt.gca().set_aspect('equal')\n",
    "\n",
    "    return ax"
   ]
  },
  {
   "cell_type": "markdown",
   "metadata": {},
   "source": [
    "### Notion of Randomness: Gravity"
   ]
  },
  {
   "cell_type": "code",
   "execution_count": 26,
   "metadata": {},
   "outputs": [],
   "source": [
    "# number of squares\n",
    "\n",
    "def generate_gravity(n):\n",
    "    \"\"\" \n",
    "    Generate a sample Young tableaux using notion of gravity to the x axis and the y axis\n",
    "    \n",
    "    Parameters\n",
    "    ----------\n",
    "        n: int\n",
    "            Number of squares in the Young tableaux\n",
    "    \n",
    "    Returns\n",
    "    -------\n",
    "        gravity_y: np.ndarray\n",
    "            Heights of stairsteps\n",
    "    \"\"\"\n",
    "\n",
    "    samples = random.sample(list(range((n**2))), n)\n",
    "    \n",
    "    grid_np = np.zeros((n,n))\n",
    "    for sample in samples:\n",
    "        grid_np[sample//n][sample%n] = 1\n",
    "\n",
    "    gravity_x = np.sum(grid_np, axis=0)\n",
    "    gravity_y = np.sort(gravity_x)[::-1]\n",
    "\n",
    "    return gravity_y"
   ]
  },
  {
   "cell_type": "code",
   "execution_count": 94,
   "metadata": {},
   "outputs": [
    {
     "data": {
      "text/plain": [
       "<AxesSubplot:title={'center':'Normalized $n=10000$'}>"
      ]
     },
     "execution_count": 94,
     "metadata": {},
     "output_type": "execute_result"
    },
    {
     "data": {
      "image/png": "[encoded data removed]",
      "text/plain": [
       "<Figure size 288x288 with 1 Axes>"
      ]
     },
     "metadata": {
      "needs_background": "light"
     },
     "output_type": "display_data"
    }
   ],
   "source": [
    "test_arr = generate_gravity(int(1e4))\n",
    "plot_partition(test_arr)"
   ]
  },
  {
   "cell_type": "markdown",
   "metadata": {},
   "source": [
    "### Notion of Randomness: Uniformly Random"
   ]
  },
  {
   "cell_type": "code",
   "execution_count": 95,
   "metadata": {},
   "outputs": [],
   "source": [
    "def all_partitions(n, one_less=None):\n",
    "    \"\"\" \n",
    "    Returns a list of all partitions of the integer n.\n",
    "\n",
    "    Parameters\n",
    "    ----------\n",
    "        n: int\n",
    "            Integer to be partitioned\n",
    "\n",
    "    Returns\n",
    "    -------\n",
    "        partition_list: list\n",
    "            Partitions\n",
    "    \"\"\"\n",
    "\n",
    "    if n == 1:\n",
    "        return [[1]]\n",
    "    else:\n",
    "        if one_less is None:\n",
    "            one_less = all_partitions(n-1)\n",
    "        one_less_extend = [less_partition + [0] for less_partition in one_less]\n",
    "        partition_list = []\n",
    "\n",
    "        for less_partition in one_less_extend:\n",
    "            # add 1 to the highest number\n",
    "            add_highest = less_partition.copy()\n",
    "            add_highest[0] = add_highest[0] + 1\n",
    "\n",
    "            partition_list.append(add_highest)\n",
    "\n",
    "            # check if less_partition is of the format (m, m, ..., m, m-1, ...)\n",
    "            max_val = np.max(less_partition)\n",
    "            if max_val-1 in np.unique(less_partition):\n",
    "                add_pos = np.min(np.argwhere(less_partition==(max_val-1))) # find where max_val-1 is\n",
    "                one_step = less_partition.copy()\n",
    "                one_step[add_pos] = one_step[add_pos] + 1\n",
    "                \n",
    "                partition_list.append(one_step)\n",
    "\n",
    "    return partition_list"
   ]
  },
  {
   "cell_type": "code",
   "execution_count": 97,
   "metadata": {},
   "outputs": [],
   "source": [
    "# make a database of partitions\n",
    "\n",
    "if not os.path.exists(\"Partitions/partitions_to_49.pkl\"):\n",
    "    partition_db = dict()\n",
    "\n",
    "    partition_db[1] = all_partitions(1)\n",
    "\n",
    "    for val in tqdm.tqdm(range(2, 50)):\n",
    "        partition_db[val] = all_partitions(val, one_less=partition_db[val-1])\n",
    "\n",
    "    with open(\"Partitions/partitions_to_49.pkl\", \"wb\") as f:\n",
    "        pkl.dump(partition_db, f)\n",
    "else:\n",
    "    with open(\"Partitions/partitions_to_49.pkl\", \"rb\") as f:\n",
    "        partition_db = pkl.load(f)"
   ]
  },
  {
   "cell_type": "code",
   "execution_count": 112,
   "metadata": {},
   "outputs": [
    {
     "data": {
      "image/png": "[encoded data removed]",
      "text/plain": [
       "<Figure size 432x288 with 16 Axes>"
      ]
     },
     "metadata": {
      "needs_background": "light"
     },
     "output_type": "display_data"
    }
   ],
   "source": [
    "fig, axes = plt.subplots(4, 4, gridspec_kw={'hspace': 0.7, 'wspace': 0.5})\n",
    "\n",
    "for idx in range(axes.flatten().shape[0]):\n",
    "    plot_partition(random.choice(partition_db[49]), text=False, ax=axes[idx//4][idx%4])"
   ]
  },
  {
   "cell_type": "code",
   "execution_count": null,
   "metadata": {},
   "outputs": [],
   "source": []
  }
 ],
 "metadata": {
  "kernelspec": {
   "display_name": "Python 3",
   "language": "python",
   "name": "python3"
  },
  "language_info": {
   "codemirror_mode": {
    "name": "ipython",
    "version": 3
   },
   "file_extension": ".py",
   "mimetype": "text/x-python",
   "name": "python",
   "nbconvert_exporter": "python",
   "pygments_lexer": "ipython3",
   "version": "3.10.2"
  }
 },
 "nbformat": 4,
 "nbformat_minor": 2
}
